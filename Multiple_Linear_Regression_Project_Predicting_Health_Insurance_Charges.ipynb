{
  "nbformat": 4,
  "nbformat_minor": 0,
  "metadata": {
    "colab": {
      "provenance": [],
      "authorship_tag": "ABX9TyPj4p6tWRkfMBlxNARxYPqx",
      "include_colab_link": true
    },
    "kernelspec": {
      "name": "python3",
      "display_name": "Python 3"
    },
    "language_info": {
      "name": "python"
    }
  },
  "cells": [
    {
      "cell_type": "markdown",
      "metadata": {
        "id": "view-in-github",
        "colab_type": "text"
      },
      "source": [
        "<a href=\"https://colab.research.google.com/github/rutripathi96/Predicting_Health_Insurance_Charges/blob/main/Multiple_Linear_Regression_Project_Predicting_Health_Insurance_Charges.ipynb\" target=\"_parent\"><img src=\"https://colab.research.google.com/assets/colab-badge.svg\" alt=\"Open In Colab\"/></a>"
      ]
    },
    {
      "cell_type": "markdown",
      "source": [
        "# Multiple Linear Regression Project: Predicting Health Insurance Charges\n",
        "\n",
        "## Introduction\n",
        "\n",
        "In this project, we aim to build a Multiple Linear Regression model to predict individual medical costs billed by health insurance. The dataset contains various factors that may influence health insurance charges, including age, gender, BMI (Body Mass Index), number of children, smoking status, and region.\n",
        "\n",
        "### Objective\n",
        "\n",
        "The primary objective of this project is to analyze the relationships between the independent variables (age, gender, BMI, children, smoker, region) and the dependent variable (health insurance charges). By leveraging multiple linear regression, we seek to create a predictive model that can estimate insurance charges based on these factors.\n",
        "\n",
        "### Dataset\n",
        "\n",
        "The dataset used for this project is the [Medical Cost Personal Datasets](https://www.kaggle.com/mirichoi0218/insurance) available on Kaggle. It includes information about individuals, their medical charges, and various attributes that may impact insurance costs.\n",
        "\n",
        "### Variables\n",
        "\n",
        "1. **Age:** The age of the individual.\n",
        "2. **Gender:** Gender of the individual (male/female).\n",
        "3. **BMI (Body Mass Index):** A numerical value of a person's weight in relation to their height.\n",
        "4. **Children:** Number of children/dependents covered by the insurance.\n",
        "5. **Smoker:** Whether the individual is a smoker (yes/no).\n",
        "6. **Region:** The geographic region of the individual (northeast, northwest, southeast, southwest).\n",
        "7. **Charges (Target Variable):** Individual medical costs billed by health insurance.\n",
        "\n",
        "### Methodology\n",
        "\n",
        "1. **Data Exploration:** Explore the dataset to understand its structure, check for missing values, and gain insights into the distribution of variables.\n",
        "2. **Data Preprocessing:** Handle categorical variables, encode them, and scale numerical features if needed.\n",
        "3. **Exploratory Data Analysis (EDA):** Analyze the relationships between variables through visualizations and statistical summaries.\n",
        "4. **Feature Engineering:** If necessary, create new features or transform existing ones to improve model performance.\n",
        "5. **Model Training:** Implement a Multiple Linear Regression model using the selected features.\n",
        "6. **Model Evaluation:** Evaluate the model's performance on a validation set and interpret the results.\n",
        "7. **Prediction:** Make predictions on new data points to estimate health insurance charges.\n",
        "\n",
        "Let's begin the exploration and analysis!\n"
      ],
      "metadata": {
        "id": "FZmyBhtzP-pq"
      }
    },
    {
      "cell_type": "markdown",
      "source": [
        "# Data Exploration and Preprocessing"
      ],
      "metadata": {
        "id": "7AUCL6wBQBjx"
      }
    },
    {
      "cell_type": "code",
      "source": [
        "import numpy as np\n",
        "import pandas as pd\n",
        "import matplotlib.pyplot as plt"
      ],
      "metadata": {
        "id": "gG0ZZcqKQZqy"
      },
      "execution_count": 24,
      "outputs": []
    },
    {
      "cell_type": "code",
      "source": [
        "dataset = pd.read_csv('insurance.csv')\n"
      ],
      "metadata": {
        "id": "Hxy9hMBOQfiK"
      },
      "execution_count": 25,
      "outputs": []
    },
    {
      "cell_type": "code",
      "source": [
        "X = dataset.iloc[:,:-1]\n",
        "y = dataset.iloc[:,-1]"
      ],
      "metadata": {
        "id": "xwGJ6WGMQ3hE"
      },
      "execution_count": 26,
      "outputs": []
    },
    {
      "cell_type": "code",
      "source": [
        "print(X)"
      ],
      "metadata": {
        "colab": {
          "base_uri": "https://localhost:8080/"
        },
        "id": "mlGPE9M_Q-IH",
        "outputId": "684d2ead-fdd4-4907-9fdb-29d63ff28ff2"
      },
      "execution_count": 27,
      "outputs": [
        {
          "output_type": "stream",
          "name": "stdout",
          "text": [
            "      age     sex     bmi  children smoker     region\n",
            "0      19  female  27.900         0    yes  southwest\n",
            "1      18    male  33.770         1     no  southeast\n",
            "2      28    male  33.000         3     no  southeast\n",
            "3      33    male  22.705         0     no  northwest\n",
            "4      32    male  28.880         0     no  northwest\n",
            "...   ...     ...     ...       ...    ...        ...\n",
            "1333   50    male  30.970         3     no  northwest\n",
            "1334   18  female  31.920         0     no  northeast\n",
            "1335   18  female  36.850         0     no  southeast\n",
            "1336   21  female  25.800         0     no  southwest\n",
            "1337   61  female  29.070         0    yes  northwest\n",
            "\n",
            "[1338 rows x 6 columns]\n"
          ]
        }
      ]
    },
    {
      "cell_type": "code",
      "source": [
        "print(y)"
      ],
      "metadata": {
        "colab": {
          "base_uri": "https://localhost:8080/"
        },
        "id": "FGjgrioGRAvZ",
        "outputId": "97925cdb-4ff6-4c50-f65e-0a3c4c30638e"
      },
      "execution_count": 28,
      "outputs": [
        {
          "output_type": "stream",
          "name": "stdout",
          "text": [
            "0       16884.92400\n",
            "1        1725.55230\n",
            "2        4449.46200\n",
            "3       21984.47061\n",
            "4        3866.85520\n",
            "           ...     \n",
            "1333    10600.54830\n",
            "1334     2205.98080\n",
            "1335     1629.83350\n",
            "1336     2007.94500\n",
            "1337    29141.36030\n",
            "Name: charges, Length: 1338, dtype: float64\n"
          ]
        }
      ]
    },
    {
      "cell_type": "markdown",
      "source": [
        "**Checking for missing values**"
      ],
      "metadata": {
        "id": "L2trgE3aREzd"
      }
    },
    {
      "cell_type": "code",
      "source": [
        "print(dataset.isnull().sum())"
      ],
      "metadata": {
        "colab": {
          "base_uri": "https://localhost:8080/"
        },
        "id": "DJZY84OdRIDU",
        "outputId": "4c1fc3a1-75fe-48b6-80c3-9202c5a54607"
      },
      "execution_count": 29,
      "outputs": [
        {
          "output_type": "stream",
          "name": "stdout",
          "text": [
            "age         0\n",
            "sex         0\n",
            "bmi         0\n",
            "children    0\n",
            "smoker      0\n",
            "region      0\n",
            "charges     0\n",
            "dtype: int64\n"
          ]
        }
      ]
    },
    {
      "cell_type": "markdown",
      "source": [
        "No missing values present"
      ],
      "metadata": {
        "id": "yK3nPEVzRMNL"
      }
    },
    {
      "cell_type": "markdown",
      "source": [
        "# Encoding the indepdent variables"
      ],
      "metadata": {
        "id": "COT1tWOdRPJE"
      }
    },
    {
      "cell_type": "markdown",
      "source": [
        "**Encoding gender**"
      ],
      "metadata": {
        "id": "4fqVV1nnRlBw"
      }
    },
    {
      "cell_type": "code",
      "source": [
        "from sklearn.compose import ColumnTransformer\n",
        "from sklearn.preprocessing import OneHotEncoder\n",
        "ct = ColumnTransformer(transformers=[('encoder', OneHotEncoder(), [1])], remainder='passthrough')\n",
        "X = np.array(ct.fit_transform(X))"
      ],
      "metadata": {
        "id": "5d5tv4DcUs1S"
      },
      "execution_count": 30,
      "outputs": []
    },
    {
      "cell_type": "code",
      "source": [
        "print(X)"
      ],
      "metadata": {
        "colab": {
          "base_uri": "https://localhost:8080/"
        },
        "id": "E7MngtdgVuNj",
        "outputId": "87f59f07-2b7c-4801-95da-597d85de85d8"
      },
      "execution_count": 31,
      "outputs": [
        {
          "output_type": "stream",
          "name": "stdout",
          "text": [
            "[[1.0 0.0 19 ... 0 'yes' 'southwest']\n",
            " [0.0 1.0 18 ... 1 'no' 'southeast']\n",
            " [0.0 1.0 28 ... 3 'no' 'southeast']\n",
            " ...\n",
            " [1.0 0.0 18 ... 0 'no' 'southeast']\n",
            " [1.0 0.0 21 ... 0 'no' 'southwest']\n",
            " [1.0 0.0 61 ... 0 'yes' 'northwest']]\n"
          ]
        }
      ]
    },
    {
      "cell_type": "markdown",
      "source": [
        "**Encoding the smoker feature**"
      ],
      "metadata": {
        "id": "s40pZ-B1Xmh-"
      }
    },
    {
      "cell_type": "code",
      "source": [
        "from sklearn.compose import ColumnTransformer\n",
        "from sklearn.preprocessing import OneHotEncoder\n",
        "ct = ColumnTransformer(transformers=[('encoder', OneHotEncoder(), [5])], remainder='passthrough')\n",
        "X = np.array(ct.fit_transform(X))"
      ],
      "metadata": {
        "id": "smNqotonXr35"
      },
      "execution_count": 32,
      "outputs": []
    },
    {
      "cell_type": "code",
      "source": [
        "print(X)"
      ],
      "metadata": {
        "colab": {
          "base_uri": "https://localhost:8080/"
        },
        "id": "ilnCbZowX1vn",
        "outputId": "50177a4d-2b96-4d78-ef54-6f82eead85b8"
      },
      "execution_count": 33,
      "outputs": [
        {
          "output_type": "stream",
          "name": "stdout",
          "text": [
            "[[0.0 1.0 1.0 ... 27.9 0 'southwest']\n",
            " [1.0 0.0 0.0 ... 33.77 1 'southeast']\n",
            " [1.0 0.0 0.0 ... 33.0 3 'southeast']\n",
            " ...\n",
            " [1.0 0.0 1.0 ... 36.85 0 'southeast']\n",
            " [1.0 0.0 1.0 ... 25.8 0 'southwest']\n",
            " [0.0 1.0 1.0 ... 29.07 0 'northwest']]\n"
          ]
        }
      ]
    },
    {
      "cell_type": "markdown",
      "source": [
        "**Encoding the region feature**"
      ],
      "metadata": {
        "id": "NOp4A3-MYHVJ"
      }
    },
    {
      "cell_type": "code",
      "source": [
        "from sklearn.compose import ColumnTransformer\n",
        "from sklearn.preprocessing import OneHotEncoder\n",
        "ct = ColumnTransformer(transformers=[('encoder', OneHotEncoder(), [7])], remainder='passthrough')\n",
        "X = np.array(ct.fit_transform(X))"
      ],
      "metadata": {
        "id": "h92c75enYLLm"
      },
      "execution_count": 35,
      "outputs": []
    },
    {
      "cell_type": "code",
      "source": [
        "print(X)"
      ],
      "metadata": {
        "colab": {
          "base_uri": "https://localhost:8080/"
        },
        "id": "CMTABGlqYbu4",
        "outputId": "9ca5c3a9-ff7f-4daa-9b16-fab39e6f9018"
      },
      "execution_count": 36,
      "outputs": [
        {
          "output_type": "stream",
          "name": "stdout",
          "text": [
            "[[0.0 0.0 0.0 ... 19 27.9 0]\n",
            " [0.0 0.0 1.0 ... 18 33.77 1]\n",
            " [0.0 0.0 1.0 ... 28 33.0 3]\n",
            " ...\n",
            " [0.0 0.0 1.0 ... 18 36.85 0]\n",
            " [0.0 0.0 0.0 ... 21 25.8 0]\n",
            " [0.0 1.0 0.0 ... 61 29.07 0]]\n"
          ]
        }
      ]
    },
    {
      "cell_type": "markdown",
      "source": [
        "# Splitting the data into training and testing set"
      ],
      "metadata": {
        "id": "nKH0pQJuYmZ3"
      }
    },
    {
      "cell_type": "code",
      "source": [
        "from sklearn.model_selection import train_test_split\n",
        "X_train, X_test, y_train , y_test = train_test_split(X,y,test_size=0.2,random_state=0)"
      ],
      "metadata": {
        "id": "91vhQ6a0Yrxs"
      },
      "execution_count": 37,
      "outputs": []
    },
    {
      "cell_type": "markdown",
      "source": [
        "# Model Training"
      ],
      "metadata": {
        "id": "xX8XiXd9ZAtI"
      }
    },
    {
      "cell_type": "code",
      "source": [
        "from sklearn.linear_model import LinearRegression\n",
        "lr = LinearRegression()\n",
        "lr.fit(X_train,y_train)"
      ],
      "metadata": {
        "colab": {
          "base_uri": "https://localhost:8080/",
          "height": 74
        },
        "id": "yU9cc2QpZHVZ",
        "outputId": "93684da0-365b-44e2-e6db-56421c6f8511"
      },
      "execution_count": 40,
      "outputs": [
        {
          "output_type": "execute_result",
          "data": {
            "text/plain": [
              "LinearRegression()"
            ],
            "text/html": [
              "<style>#sk-container-id-2 {color: black;background-color: white;}#sk-container-id-2 pre{padding: 0;}#sk-container-id-2 div.sk-toggleable {background-color: white;}#sk-container-id-2 label.sk-toggleable__label {cursor: pointer;display: block;width: 100%;margin-bottom: 0;padding: 0.3em;box-sizing: border-box;text-align: center;}#sk-container-id-2 label.sk-toggleable__label-arrow:before {content: \"▸\";float: left;margin-right: 0.25em;color: #696969;}#sk-container-id-2 label.sk-toggleable__label-arrow:hover:before {color: black;}#sk-container-id-2 div.sk-estimator:hover label.sk-toggleable__label-arrow:before {color: black;}#sk-container-id-2 div.sk-toggleable__content {max-height: 0;max-width: 0;overflow: hidden;text-align: left;background-color: #f0f8ff;}#sk-container-id-2 div.sk-toggleable__content pre {margin: 0.2em;color: black;border-radius: 0.25em;background-color: #f0f8ff;}#sk-container-id-2 input.sk-toggleable__control:checked~div.sk-toggleable__content {max-height: 200px;max-width: 100%;overflow: auto;}#sk-container-id-2 input.sk-toggleable__control:checked~label.sk-toggleable__label-arrow:before {content: \"▾\";}#sk-container-id-2 div.sk-estimator input.sk-toggleable__control:checked~label.sk-toggleable__label {background-color: #d4ebff;}#sk-container-id-2 div.sk-label input.sk-toggleable__control:checked~label.sk-toggleable__label {background-color: #d4ebff;}#sk-container-id-2 input.sk-hidden--visually {border: 0;clip: rect(1px 1px 1px 1px);clip: rect(1px, 1px, 1px, 1px);height: 1px;margin: -1px;overflow: hidden;padding: 0;position: absolute;width: 1px;}#sk-container-id-2 div.sk-estimator {font-family: monospace;background-color: #f0f8ff;border: 1px dotted black;border-radius: 0.25em;box-sizing: border-box;margin-bottom: 0.5em;}#sk-container-id-2 div.sk-estimator:hover {background-color: #d4ebff;}#sk-container-id-2 div.sk-parallel-item::after {content: \"\";width: 100%;border-bottom: 1px solid gray;flex-grow: 1;}#sk-container-id-2 div.sk-label:hover label.sk-toggleable__label {background-color: #d4ebff;}#sk-container-id-2 div.sk-serial::before {content: \"\";position: absolute;border-left: 1px solid gray;box-sizing: border-box;top: 0;bottom: 0;left: 50%;z-index: 0;}#sk-container-id-2 div.sk-serial {display: flex;flex-direction: column;align-items: center;background-color: white;padding-right: 0.2em;padding-left: 0.2em;position: relative;}#sk-container-id-2 div.sk-item {position: relative;z-index: 1;}#sk-container-id-2 div.sk-parallel {display: flex;align-items: stretch;justify-content: center;background-color: white;position: relative;}#sk-container-id-2 div.sk-item::before, #sk-container-id-2 div.sk-parallel-item::before {content: \"\";position: absolute;border-left: 1px solid gray;box-sizing: border-box;top: 0;bottom: 0;left: 50%;z-index: -1;}#sk-container-id-2 div.sk-parallel-item {display: flex;flex-direction: column;z-index: 1;position: relative;background-color: white;}#sk-container-id-2 div.sk-parallel-item:first-child::after {align-self: flex-end;width: 50%;}#sk-container-id-2 div.sk-parallel-item:last-child::after {align-self: flex-start;width: 50%;}#sk-container-id-2 div.sk-parallel-item:only-child::after {width: 0;}#sk-container-id-2 div.sk-dashed-wrapped {border: 1px dashed gray;margin: 0 0.4em 0.5em 0.4em;box-sizing: border-box;padding-bottom: 0.4em;background-color: white;}#sk-container-id-2 div.sk-label label {font-family: monospace;font-weight: bold;display: inline-block;line-height: 1.2em;}#sk-container-id-2 div.sk-label-container {text-align: center;}#sk-container-id-2 div.sk-container {/* jupyter's `normalize.less` sets `[hidden] { display: none; }` but bootstrap.min.css set `[hidden] { display: none !important; }` so we also need the `!important` here to be able to override the default hidden behavior on the sphinx rendered scikit-learn.org. See: https://github.com/scikit-learn/scikit-learn/issues/21755 */display: inline-block !important;position: relative;}#sk-container-id-2 div.sk-text-repr-fallback {display: none;}</style><div id=\"sk-container-id-2\" class=\"sk-top-container\"><div class=\"sk-text-repr-fallback\"><pre>LinearRegression()</pre><b>In a Jupyter environment, please rerun this cell to show the HTML representation or trust the notebook. <br />On GitHub, the HTML representation is unable to render, please try loading this page with nbviewer.org.</b></div><div class=\"sk-container\" hidden><div class=\"sk-item\"><div class=\"sk-estimator sk-toggleable\"><input class=\"sk-toggleable__control sk-hidden--visually\" id=\"sk-estimator-id-2\" type=\"checkbox\" checked><label for=\"sk-estimator-id-2\" class=\"sk-toggleable__label sk-toggleable__label-arrow\">LinearRegression</label><div class=\"sk-toggleable__content\"><pre>LinearRegression()</pre></div></div></div></div></div>"
            ]
          },
          "metadata": {},
          "execution_count": 40
        }
      ]
    },
    {
      "cell_type": "markdown",
      "source": [
        "# Model Evaluation"
      ],
      "metadata": {
        "id": "AoU3hjwvcnbk"
      }
    },
    {
      "cell_type": "code",
      "source": [
        "y_pred = lr.predict(X_test)"
      ],
      "metadata": {
        "id": "JDdwBKJ8ahPV"
      },
      "execution_count": 41,
      "outputs": []
    },
    {
      "cell_type": "code",
      "source": [
        "from sklearn.metrics import mean_squared_error\n",
        "mse = mean_squared_error(y_test, y_pred)"
      ],
      "metadata": {
        "id": "26kz4QVzb-Hg"
      },
      "execution_count": 43,
      "outputs": []
    },
    {
      "cell_type": "code",
      "source": [
        "print(mse)"
      ],
      "metadata": {
        "colab": {
          "base_uri": "https://localhost:8080/"
        },
        "id": "KmE5MUU1cOAy",
        "outputId": "e95af676-55f0-496a-af72-7b002bb9add4"
      },
      "execution_count": 44,
      "outputs": [
        {
          "output_type": "stream",
          "name": "stdout",
          "text": [
            "31827950.22952382\n"
          ]
        }
      ]
    },
    {
      "cell_type": "code",
      "source": [
        "rmse = np.sqrt(mean_squared_error(y_test, y_pred))\n",
        "rmse"
      ],
      "metadata": {
        "colab": {
          "base_uri": "https://localhost:8080/"
        },
        "id": "LdU03_YdciUl",
        "outputId": "f4f86fb0-3f22-40fa-9676-2f90c4e55c1b"
      },
      "execution_count": 45,
      "outputs": [
        {
          "output_type": "execute_result",
          "data": {
            "text/plain": [
              "5641.626558850188"
            ]
          },
          "metadata": {},
          "execution_count": 45
        }
      ]
    },
    {
      "cell_type": "code",
      "source": [
        "print(lr.coef_)"
      ],
      "metadata": {
        "colab": {
          "base_uri": "https://localhost:8080/"
        },
        "id": "TbhSQ5BRcwGB",
        "outputId": "739355ed-1e21-42e5-95d9-936e5c7ecb29"
      },
      "execution_count": 46,
      "outputs": [
        {
          "output_type": "stream",
          "name": "stdout",
          "text": [
            "[ 4.83840068e+02  2.23707336e+02 -4.29438766e+02 -2.78108638e+02\n",
            " -1.18025086e+04  1.18025086e+04  7.73186394e+00 -7.73186394e+00\n",
            "  2.53700500e+02  3.35962814e+02  4.36910121e+02]\n"
          ]
        }
      ]
    },
    {
      "cell_type": "code",
      "source": [
        "print(lr.intercept_)"
      ],
      "metadata": {
        "colab": {
          "base_uri": "https://localhost:8080/"
        },
        "id": "UxeWJh4jc9mu",
        "outputId": "9b1f2a69-56a1-4a08-8331-b0f2fbde0bdb"
      },
      "execution_count": 47,
      "outputs": [
        {
          "output_type": "stream",
          "name": "stdout",
          "text": [
            "-517.136835842577\n"
          ]
        }
      ]
    }
  ]
}